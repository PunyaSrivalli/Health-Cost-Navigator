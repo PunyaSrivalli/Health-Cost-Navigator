{
 "metadata": {
  "kernelspec": {
   "display_name": "Streamlit Notebook",
   "name": "streamlit"
  },
  "lastEditStatus": {
   "notebookId": "m6ue4uc63tbhbe45hptg",
   "authorId": "6045381899625",
   "authorName": "PUNYASRIVALLI",
   "authorEmail": "pxn230013@utdallas.edu",
   "sessionId": "89bae248-9aac-4b68-9a34-8b4fee85164d",
   "lastEditTime": 1746834132273
  }
 },
 "nbformat_minor": 5,
 "nbformat": 4,
 "cells": [
  {
   "cell_type": "markdown",
   "id": "7b303e91-cbb3-4c28-9d17-757158bce75f",
   "metadata": {
    "name": "cell2",
    "collapsed": false
   },
   "source": "Carolinas Medical Center Cleaning"
  },
  {
   "cell_type": "code",
   "id": "9026ac23-bdf7-4d25-9c77-d64f29729347",
   "metadata": {
    "language": "python",
    "name": "cell1"
   },
   "outputs": [],
   "source": "from snowflake.snowpark import Session\nfrom snowflake.snowpark.functions import col, upper, when, lit, trim, length\n\nsession = Session.builder.getOrCreate()\n\ndf = session.table('\"HEALTH_NAV\".\"STAGE\".\"CAROLINAS_MEDICAL_CENTER\"')\n\ndf = df.filter(upper(col('\"code|2|type\"')) == \"CPT\")\n\ncolumns_mapping = {\n    'DESCRIPTION': 'DESCRIPTION',\n    '\"code|2\"': 'CODE',\n    '\"code|2|type\"': 'CODE_TYPE',\n    'PAYER_NAME': 'PAYER_NAME',\n    'PLAN_NAME': 'PLAN_NAME',\n    '\"standard_charge|negotiated_dollar\"': 'STANDARD_CHARGE_DOLLAR',\n    '\"standard_charge|negotiated_percentage\"': 'STANDARD_CHARGE_PERCENTAGE',\n    '\"standard_charge|min\"': 'MINIMUM_CHARGE',\n    '\"standard_charge|max\"': 'MAXIMUM_CHARGE'\n}\n\n\nexisting_cols = df.schema.names\nexisting_columns = {k: v for k, v in columns_mapping.items() if k in existing_cols}\n\nif not existing_columns:\n    raise ValueError(\n        \"None of the expected columns were found in the source table.\\n\"\n        f\"Available columns are:\\n{existing_cols}\"\n    )\n\n\ndf = df.select([col(k).alias(v) for k, v in existing_columns.items()])\n\n\nnumeric_columns = [v for k, v in existing_columns.items() \n                  if any(x in k.lower() for x in ['charge', 'amount', 'percentage', 'min', 'max'])]\n\n\nfor column in existing_columns.values():\n    \n    is_blank = (col(column).isNull()) | (length(trim(col(column))) == 0)\n    \n    if column in numeric_columns:\n        # For numeric columns: convert blank to 0, otherwise keep original value\n        df = df.withColumn(column, \n                         when(is_blank, lit(0))\n                         .otherwise(col(column)))\n    else:\n        # For non-numeric columns: convert blank to '0'\n        df = df.withColumn(column,\n                          when(is_blank, lit('0'))\n                          .otherwise(col(column)))\n\n\nif 'STANDARD_CHARGE_DOLLAR' in existing_columns.values() and 'STANDARD_CHARGE_PERCENTAGE' in existing_columns.values():\n    df = df.filter(\n        (col('STANDARD_CHARGE_DOLLAR') != 0) | \n        (col('STANDARD_CHARGE_PERCENTAGE') != 0))\nelse:\n    print(\"Warning: Could not filter null charge rows - required columns not found\")\n\n\ncolumn_defs = \",\\n\".join([f'\"{col}\" STRING' for col in existing_columns.values()])\n\ncreate_stmt = f\"\"\"\n    CREATE OR REPLACE TABLE \"HEALTH_NAV\".\"CORE\".\"CAROLINAS_MEDICAL_CENTER\" (\n        {column_defs}\n    )\n\"\"\"\nsession.sql(create_stmt).collect()\n\ndf.write.save_as_table(\n    '\"HEALTH_NAV\".\"CORE\".\"CAROLINAS_MEDICAL_CENTER\"',\n    mode='overwrite'\n)\n\nprint(\"Data successfully written to HEALTH_NAV.CORE.CAROLINAS_MEDICAL_CENTER\")",
   "execution_count": null
  },
  {
   "cell_type": "markdown",
   "id": "9be695f2-9743-4080-9445-49e47c184324",
   "metadata": {
    "name": "cell3",
    "collapsed": false
   },
   "source": "St Rose Dominican Rose De Lima"
  },
  {
   "cell_type": "code",
   "id": "266df63a-f831-472a-a96f-a35b2fa27587",
   "metadata": {
    "language": "python",
    "name": "cell4"
   },
   "outputs": [],
   "source": "from snowflake.snowpark import Session\nfrom snowflake.snowpark.functions import col, upper, when, lit, trim, length, to_decimal\n\n\nsession = Session.builder.getOrCreate()\n\n\ndf = session.table('\"HEALTH_NAV\".\"STAGE\".\"ST_ROSE_DOMINICAN_HOSPITAL_ROSE_DE_LIMA\"')\n\n\ndf = df.filter(upper(col('\"Code Type\"')) == \"CPT\")\n\n\ncolumns_mapping = {\n    'DESCRIPTION': 'DESCRIPTION',\n    'CODE': 'CODE',\n    '\"Code Type\"': 'CODE_TYPE',\n    '\"Payer Name\"': 'PAYER_NAME',\n    '\"Plan Name\"': 'PLAN_NAME',\n    '\"Standard Charge Dollar\"': 'STANDARD_CHARGE_DOLLAR',\n    '\"Standard Charge Percentage\"': 'STANDARD_CHARGE_PERCENTAGE',\n    '\"Minimum Charge\"': 'MINIMUM_CHARGE',\n    '\"Maximum Charge\"': 'MAXIMUM_CHARGE'\n}\n\nexisting_cols = df.schema.names\nexisting_columns = {k: v for k, v in columns_mapping.items() if k in existing_cols}\n\n\nif '\"Standard Charge Dollar\"' not in existing_cols:\n    df = df.withColumn('STANDARD_CHARGE_DOLLAR', lit(0.0))\n    existing_columns['STANDARD_CHARGE_DOLLAR'] = 'STANDARD_CHARGE_DOLLAR'\n\nif not existing_columns:\n    raise ValueError(\n        \"None of the expected columns were found in the source table.\\n\"\n        f\"Available columns are:\\n{existing_cols}\"\n    )\n\n\ndf = df.select([col(k).alias(v) if k in existing_cols else lit(None).alias(v) \n               for k, v in columns_mapping.items()])\n\n\nnumeric_columns = ['STANDARD_CHARGE_DOLLAR', 'STANDARD_CHARGE_PERCENTAGE', \n                  'MINIMUM_CHARGE', 'MAXIMUM_CHARGE']\nnumeric_columns = [col for col in numeric_columns if col in df.columns]\n\n\nfor column in df.columns:\n    df = df.withColumn(column, \n                      when(trim(upper(col(column))) == 'N/A', lit(None))\n                      .otherwise(col(column)))\n\n\nfor column in df.columns:\n    is_blank = (col(column).isNull()) | (length(trim(col(column))) == 0)\n    \n    if column in numeric_columns:\n        df = df.withColumn(column, \n                         when(is_blank, lit(None))\n                         .otherwise(col(column)))\n    else:\n        df = df.withColumn(column,\n                          when(is_blank, lit('0'))\n                          .otherwise(col(column)))\n\n\nfor column in numeric_columns:\n    df = df.withColumn(column, \n                      to_decimal(col(column), 38, 2).cast(\"FLOAT\"))\n\nfor column in numeric_columns:\n    df = df.withColumn(column,\n                      when(col(column).isNull(), lit(0.0))\n                      .otherwise(col(column)))\n\n\nif 'STANDARD_CHARGE_PERCENTAGE' in numeric_columns and 'MAXIMUM_CHARGE' in numeric_columns:\n    has_percentage = (col('STANDARD_CHARGE_DOLLAR') == 0) & (col('STANDARD_CHARGE_PERCENTAGE') > 0)\n    calculated_dollar = (col('STANDARD_CHARGE_PERCENTAGE') * col('MAXIMUM_CHARGE') * 0.01)\n    \n    df = df.withColumn('STANDARD_CHARGE_DOLLAR',\n                      when(has_percentage, calculated_dollar)\n                      .otherwise(col('STANDARD_CHARGE_DOLLAR')))\n\n\ncolumn_defs = []\nfor col_name in columns_mapping.values():\n    if col_name in numeric_columns:\n        column_defs.append(f'\"{col_name}\" FLOAT')\n    else:\n        column_defs.append(f'\"{col_name}\" STRING')\n\ncreate_stmt = \"\"\"CREATE OR REPLACE TABLE \"HEALTH_NAV\".\"CORE\".\"ST_ROSE_DOMINICAN_HOSPITAL_ROSE_DE_LIMA\" (\n\"\"\" + \",\\n\".join(column_defs) + \"\\n)\"\n\nsession.sql(create_stmt).collect()\n\n\ndf.write.save_as_table(\n    '\"HEALTH_NAV\".\"CORE\".\"ST_ROSE_DOMINICAN_HOSPITAL_ROSE_DE_LIMA\"',\n    mode='overwrite'\n)\n\nprint(\"Data successfully written to HEALTH_NAV.CORE.ST_ROSE_DOMINICAN_HOSPITAL_ROSE_DE_LIMA\")\nprint(f\"Final columns: {df.columns}\")",
   "execution_count": null
  },
  {
   "cell_type": "markdown",
   "id": "ac5f4490-8bfc-4ea5-a9be-0529659393a0",
   "metadata": {
    "name": "cell5",
    "collapsed": false
   },
   "source": ""
  },
  {
   "cell_type": "markdown",
   "id": "e1087384-b0a8-42cc-a86f-a673e1d79aeb",
   "metadata": {
    "name": "cell6",
    "collapsed": false
   },
   "source": "St Rose Dominican Siena Cleaning"
  },
  {
   "cell_type": "code",
   "id": "4aba4463-da61-4b78-a4d5-0e4eb5245bc3",
   "metadata": {
    "language": "python",
    "name": "cell7"
   },
   "outputs": [],
   "source": "from snowflake.snowpark import Session\nfrom snowflake.snowpark.functions import col, upper, when, lit, trim, length, to_decimal\n\n\nsession = Session.builder.getOrCreate()\n\n\ndf = session.table('\"HEALTH_NAV\".\"STAGE\".\"ST_ROSE_DOMINICAN_HOSPITAL_SIENA\"')\n\n\ndf = df.filter(upper(col('\"Code Type\"')) == \"CPT\")\n\ncolumns_mapping = {\n    'DESCRIPTION': 'DESCRIPTION',\n    'CODE': 'CODE',\n    '\"Code Type\"': 'CODE_TYPE',\n    '\"Payer Name\"': 'PAYER_NAME',\n    '\"Plan Name\"': 'PLAN_NAME',\n    '\"Standard Charge Dollar\"': 'STANDARD_CHARGE_DOLLAR',\n    '\"Standard Charge Percentage\"': 'STANDARD_CHARGE_PERCENTAGE',\n    '\"Minimum Charge\"': 'MINIMUM_CHARGE',\n    '\"Maximum Charge\"': 'MAXIMUM_CHARGE'\n}\n\nexisting_cols = df.schema.names\nexisting_columns = {k: v for k, v in columns_mapping.items() if k in existing_cols}\n\n\nif '\"Standard Charge Dollar\"' not in existing_cols:\n    df = df.withColumn('STANDARD_CHARGE_DOLLAR', lit(0.0))\n    existing_columns['STANDARD_CHARGE_DOLLAR'] = 'STANDARD_CHARGE_DOLLAR'\n\nif not existing_columns:\n    raise ValueError(\n        \"None of the expected columns were found in the source table.\\n\"\n        f\"Available columns are:\\n{existing_cols}\"\n    )\n\n\ndf = df.select([col(k).alias(v) if k in existing_cols else lit(None).alias(v) \n               for k, v in columns_mapping.items()])\n\n\nnumeric_columns = ['STANDARD_CHARGE_DOLLAR', 'STANDARD_CHARGE_PERCENTAGE', \n                  'MINIMUM_CHARGE', 'MAXIMUM_CHARGE']\nnumeric_columns = [col for col in numeric_columns if col in df.columns]\n\n\nfor column in df.columns:\n    df = df.withColumn(column, \n                      when(trim(upper(col(column))) == 'N/A', lit(None))\n                      .otherwise(col(column)))\n\n\nfor column in df.columns:\n    is_blank = (col(column).isNull()) | (length(trim(col(column))) == 0)\n    \n    if column in numeric_columns:\n        df = df.withColumn(column, \n                         when(is_blank, lit(None))\n                         .otherwise(col(column)))\n    else:\n        df = df.withColumn(column,\n                          when(is_blank, lit('0'))\n                          .otherwise(col(column)))\n\n\nfor column in numeric_columns:\n    df = df.withColumn(column, \n                      to_decimal(col(column), 38, 2).cast(\"FLOAT\"))\n\n\nfor column in numeric_columns:\n    df = df.withColumn(column,\n                      when(col(column).isNull(), lit(0.0))\n                      .otherwise(col(column)))\n\n\nif 'STANDARD_CHARGE_PERCENTAGE' in numeric_columns and 'MAXIMUM_CHARGE' in numeric_columns:\n    has_percentage = (col('STANDARD_CHARGE_DOLLAR') == 0) & (col('STANDARD_CHARGE_PERCENTAGE') > 0)\n    calculated_dollar = (col('STANDARD_CHARGE_PERCENTAGE') * col('MAXIMUM_CHARGE') * 0.01)\n    \n    df = df.withColumn('STANDARD_CHARGE_DOLLAR',\n                      when(has_percentage, calculated_dollar)\n                      .otherwise(col('STANDARD_CHARGE_DOLLAR')))\n\n\ncolumn_defs = []\nfor col_name in columns_mapping.values():\n    if col_name in numeric_columns:\n        column_defs.append(f'\"{col_name}\" FLOAT')\n    else:\n        column_defs.append(f'\"{col_name}\" STRING')\n\ncreate_stmt = \"\"\"CREATE OR REPLACE TABLE \"HEALTH_NAV\".\"CORE\".\"ST_ROSE_DOMINICAN_HOSPITAL_SIENA\" (\n\"\"\" + \",\\n\".join(column_defs) + \"\\n)\"\n\nsession.sql(create_stmt).collect()\n\n\ndf.write.save_as_table(\n    '\"HEALTH_NAV\".\"CORE\".\"ST_ROSE_DOMINICAN_HOSPITAL_SIENA\"',\n    mode='overwrite'\n)\n\nprint(\"Data successfully written to HEALTH_NAV.CORE.ST_ROSE_DOMINICAN_HOSPITAL_SIENA\")\nprint(f\"Final columns: {df.columns}\")",
   "execution_count": null
  },
  {
   "cell_type": "code",
   "id": "7341955e-1470-4bc7-8eea-fea31ec16695",
   "metadata": {
    "language": "python",
    "name": "cell8"
   },
   "outputs": [],
   "source": "from snowflake.snowpark import Session\nfrom snowflake.snowpark.functions import col, upper, when, lit, trim, length\n\n\nsession = Session.builder.getOrCreate()\n\n\ndf = session.table('\"HEALTH_NAV\".\"STAGE\".\"LINDEN_OAKS_HOSPITAL\"')\n\ndf = df.filter(upper(col('\"code|2|type\"')) == \"CPT\")\n\n\ncolumns_mapping = {\n    'DESCRIPTION': 'DESCRIPTION',\n    '\"code|2\"': 'CODE',\n    '\"code|2|type\"': 'CODE_TYPE',\n    'PAYER_NAME': 'PAYER_NAME',\n    'PLAN_NAME': 'PLAN_NAME',\n    '\"standard_charge|negotiated_dollar\"': 'STANDARD_CHARGE_DOLLAR',\n    '\"standard_charge|negotiated_percentage\"': 'STANDARD_CHARGE_PERCENTAGE',\n    '\"standard_charge|min\"': 'MINIMUM_CHARGE',\n    '\"standard_charge|max\"': 'MAXIMUM_CHARGE'\n}\n\n\nexisting_cols = df.schema.names\nexisting_columns = {k: v for k, v in columns_mapping.items() if k in existing_cols}\n\nif not existing_columns:\n    raise ValueError(\n        \"None of the expected columns were found in the source table.\\n\"\n        f\"Available columns are:\\n{existing_cols}\"\n    )\n\ndf = df.select([col(k).alias(v) for k, v in existing_columns.items()])\n\nnumeric_columns = [v for k, v in existing_columns.items() \n                  if any(x in k.lower() for x in ['charge', 'amount', 'percentage', 'min', 'max'])]\n\nfor column in existing_columns.values():\n    is_blank = (col(column).isNull()) | (length(trim(col(column))) == 0)\n    \n    if column in numeric_columns:\n        df = df.withColumn(column, \n                         when(is_blank, lit(0))\n                         .otherwise(col(column)))\n    else:\n       \n        df = df.withColumn(column,\n                          when(is_blank, lit('0'))\n                          .otherwise(col(column)))\n\n\nif 'STANDARD_CHARGE_DOLLAR' in existing_columns.values() and 'STANDARD_CHARGE_PERCENTAGE' in existing_columns.values():\n    df = df.filter(\n        (col('STANDARD_CHARGE_DOLLAR') != 0) | \n        (col('STANDARD_CHARGE_PERCENTAGE') != 0))\nelse:\n    print(\"Warning: Could not filter null charge rows - required columns not found\")\n\n\ncolumn_defs = \",\\n\".join([f'\"{col}\" STRING' for col in existing_columns.values()])\n\ncreate_stmt = f\"\"\"\n    CREATE OR REPLACE TABLE \"HEALTH_NAV\".\"CORE\".\"LINDEN_OAKS_HOSPITAL\" (\n        {column_defs}\n    )\n\"\"\"\nsession.sql(create_stmt).collect()\n\n\ndf.write.save_as_table(\n    '\"HEALTH_NAV\".\"CORE\".\"LINDEN_OAKS_HOSPITAL\"',\n    mode='overwrite'\n)\n\nprint(\"Data successfully written to HEALTH_NAV.CORE.LINDEN_OAKS_HOSPITAL\")",
   "execution_count": null
  },
  {
   "cell_type": "markdown",
   "id": "87d13de4-2503-4448-99df-26ad3d983d9c",
   "metadata": {
    "name": "cell9",
    "collapsed": false
   },
   "source": "NOVANT_HEALTH_MINT_HILL_MEDICAL_CENTER"
  },
  {
   "cell_type": "code",
   "id": "76124e93-baa4-468a-a991-072eaa321f9a",
   "metadata": {
    "language": "python",
    "name": "cell10"
   },
   "outputs": [],
   "source": "from snowflake.snowpark import Session\nfrom snowflake.snowpark.functions import col, upper, when, lit, trim, length, to_decimal\n\n\nsession = Session.builder.getOrCreate()\n\n\ndf = session.table('\"HEALTH_NAV\".\"STAGE\".\"NOVANT_HEALTH_MINT_HILL_MEDICAL_CENTER\"')\n\n\ndf = df.filter(upper(col('\"Code Type\"')) == \"CPT\")\n\n\ncolumns_mapping = {\n    'DESCRIPTION': 'DESCRIPTION',\n    'CODE': 'CODE',\n    '\"Code Type\"': 'CODE_TYPE',\n    '\"Payer Name\"': 'PAYER_NAME',\n    '\"Plan Name\"': 'PLAN_NAME',\n    '\"Standard Charge\"': 'STANDARD_CHARGE_DOLLAR',\n    '\"Standard Charge Percentage\"': 'STANDARD_CHARGE_PERCENTAGE',\n    '\"Minimum Charge\"': 'MINIMUM_CHARGE',\n    '\"Maximum Charge\"': 'MAXIMUM_CHARGE'\n}\nexisting_cols = df.schema.names\nexisting_columns = {k: v for k, v in columns_mapping.items() if k in existing_cols}\n\nif '\"Standard Charge\"' not in existing_cols:\n    df = df.withColumn('STANDARD_CHARGE_DOLLAR', lit(0.0))\n    existing_columns['STANDARD_CHARGE_DOLLAR'] = 'STANDARD_CHARGE_DOLLAR'\n\nif not existing_columns:\n    raise ValueError(\n        \"None of the expected columns were found in the source table.\\n\"\n        f\"Available columns are:\\n{existing_cols}\"\n    )\ndf = df.select([col(k).alias(v) if k in existing_cols else lit(None).alias(v) \n               for k, v in columns_mapping.items()])\ndf.limit(5).show()\n\nnumeric_columns = ['STANDARD_CHARGE_DOLLAR', 'STANDARD_CHARGE_PERCENTAGE', \n                  'MINIMUM_CHARGE', 'MAXIMUM_CHARGE']\nnumeric_columns = [col for col in numeric_columns if col in df.columns]\n\n\nfor column in df.columns:\n    df = df.withColumn(column, \n                      when(trim(upper(col(column))) == 'N/A', lit(None))\n                      .otherwise(col(column)))\n\n\nfor column in df.columns:\n    is_blank = (col(column).isNull()) | (length(trim(col(column))) == 0)\n    \n    if column in numeric_columns:\n        df = df.withColumn(column, \n                         when(is_blank, lit(None))\n                         .otherwise(col(column)))\n    else:\n        df = df.withColumn(column,\n                          when(is_blank, lit('0'))\n                          .otherwise(col(column)))\n\nfor column in numeric_columns:\n    df = df.withColumn(column, \n                      to_decimal(col(column), 38, 2).cast(\"FLOAT\"))\n\nfor column in numeric_columns:\n    df = df.withColumn(column,\n                      when(col(column).isNull(), lit(0.0))\n                      .otherwise(col(column)))\n\n\ncolumn_defs = []\nfor col_name in columns_mapping.values():\n    if col_name in numeric_columns:\n        column_defs.append(f'\"{col_name}\" FLOAT')\n    else:\n        column_defs.append(f'\"{col_name}\" STRING')\n\ncreate_stmt = \"\"\"CREATE OR REPLACE TABLE \"HEALTH_NAV\".\"CORE\".\"NOVANT_HEALTH_MINT_HILL_MEDICAL_CENTER\" (\n\"\"\" + \",\\n\".join(column_defs) + \"\\n)\"\n\nsession.sql(create_stmt).collect()\n\n\ndf.write.save_as_table(\n    '\"HEALTH_NAV\".\"CORE\".\"NOVANT_HEALTH_MINT_HILL_MEDICAL_CENTER\"',\n    mode='overwrite'\n)\n\nprint(\"Data successfully written to HEALTH_NAV.CORE.NOVANT_HEALTH_MINT_HILL_MEDICAL_CENTER\")\nprint(f\"Final columns: {df.columns}\")",
   "execution_count": null
  },
  {
   "cell_type": "markdown",
   "id": "85950536-8cbd-4a36-9c4c-f3591d1e7b6a",
   "metadata": {
    "name": "cell11",
    "collapsed": false
   },
   "source": "Novant_health_charlotte_orthopedic_hospital"
  },
  {
   "cell_type": "code",
   "id": "2a2d651f-d261-4ef4-b9a8-86dd4cfe1df2",
   "metadata": {
    "language": "python",
    "name": "cell12"
   },
   "outputs": [],
   "source": "from snowflake.snowpark import Session\nfrom snowflake.snowpark.functions import col, upper, when, lit, trim, length, to_decimal\n\n\nsession = Session.builder.getOrCreate()\n\n\ndf = session.table('\"HEALTH_NAV\".\"STAGE\".\"NOVANT_HEALTH_CHARLOTTE_ORTHOPEDIC_HOSPITAL\"')\n\n\ndf = df.filter(upper(col('\"Code Type\"')) == \"CPT\")\n\ncolumns_mapping = {\n    'DESCRIPTION': 'DESCRIPTION',\n    'CODE': 'CODE',\n    '\"Code Type\"': 'CODE_TYPE',\n    '\"Payer Name\"': 'PAYER_NAME',\n    '\"Plan Name\"': 'PLAN_NAME',\n    '\"Standard Charge\"': 'STANDARD_CHARGE_DOLLAR',\n    '\"Standard Charge Percentage\"': 'STANDARD_CHARGE_PERCENTAGE',\n    '\"Minimum Charge\"': 'MINIMUM_CHARGE',\n    '\"Maximum Charge\"': 'MAXIMUM_CHARGE'\n}\nexisting_cols = df.schema.names\nexisting_columns = {k: v for k, v in columns_mapping.items() if k in existing_cols}\n\nif '\"Standard Charge\"' not in existing_cols:\n    df = df.withColumn('STANDARD_CHARGE_DOLLAR', lit(0.0))\n    existing_columns['STANDARD_CHARGE_DOLLAR'] = 'STANDARD_CHARGE_DOLLAR'\n\nif not existing_columns:\n    raise ValueError(\n        \"None of the expected columns were found in the source table.\\n\"\n        f\"Available columns are:\\n{existing_cols}\"\n    )\ndf = df.select([col(k).alias(v) if k in existing_cols else lit(None).alias(v) \n               for k, v in columns_mapping.items()])\ndf.limit(5).show()\n\nnumeric_columns = ['STANDARD_CHARGE_DOLLAR', 'STANDARD_CHARGE_PERCENTAGE', \n                  'MINIMUM_CHARGE', 'MAXIMUM_CHARGE']\nnumeric_columns = [col for col in numeric_columns if col in df.columns]\n\n\nfor column in df.columns:\n    df = df.withColumn(column, \n                      when(trim(upper(col(column))) == 'N/A', lit(None))\n                      .otherwise(col(column)))\n\n\nfor column in df.columns:\n    is_blank = (col(column).isNull()) | (length(trim(col(column))) == 0)\n    \n    if column in numeric_columns:\n        df = df.withColumn(column, \n                         when(is_blank, lit(None))\n                         .otherwise(col(column)))\n    else:\n        df = df.withColumn(column,\n                          when(is_blank, lit('0'))\n                          .otherwise(col(column)))\n\nfor column in numeric_columns:\n    df = df.withColumn(column, \n                      to_decimal(col(column), 38, 2).cast(\"FLOAT\"))\n\nfor column in numeric_columns:\n    df = df.withColumn(column,\n                      when(col(column).isNull(), lit(0.0))\n                      .otherwise(col(column)))\n\n\ncolumn_defs = []\nfor col_name in columns_mapping.values():\n    if col_name in numeric_columns:\n        column_defs.append(f'\"{col_name}\" FLOAT')\n    else:\n        column_defs.append(f'\"{col_name}\" STRING')\n\ncreate_stmt = \"\"\"CREATE OR REPLACE TABLE \"HEALTH_NAV\".\"CORE\".\"NOVANT_HEALTH_CHARLOTTE_ORTHOPEDIC_HOSPITAL\" (\n\"\"\" + \",\\n\".join(column_defs) + \"\\n)\"\n\nsession.sql(create_stmt).collect()\n\n\ndf.write.save_as_table(\n    '\"HEALTH_NAV\".\"CORE\".\"NOVANT_HEALTH_CHARLOTTE_ORTHOPEDIC_HOSPITAL\"',\n    mode='overwrite'\n)\n\nprint(\"Data successfully written to HEALTH_NAV.CORE.NOVANT_HEALTH_CHARLOTTE_ORTHOPEDIC_HOSPITAL\")\nprint(f\"Final columns: {df.columns}\")",
   "execution_count": null
  },
  {
   "cell_type": "markdown",
   "id": "79c5b269-d281-42ef-8c95-8d5708815f99",
   "metadata": {
    "name": "cell13",
    "collapsed": false
   },
   "source": "NOVANT_HEALTH_MATTHEWS_MEDICAL_CENTER"
  },
  {
   "cell_type": "code",
   "id": "f0019531-3b61-4e8a-9989-b4c06ef0281b",
   "metadata": {
    "language": "python",
    "name": "cell14"
   },
   "outputs": [],
   "source": "from snowflake.snowpark import Session\nfrom snowflake.snowpark.functions import col, upper, when, lit, trim, length, to_decimal\n\nsession = Session.builder.getOrCreate()\n\ndf = session.table('\"HEALTH_NAV\".\"STAGE\".\"NOVANT_HEALTH_MATTHEWS_MEDICAL_CENTER\"')\n\ndf = df.filter(upper(col('\"Code Type\"')) == \"CPT\")\n\ncolumns_mapping = {\n    'DESCRIPTION': 'DESCRIPTION',\n    'CODE': 'CODE',\n    '\"Code Type\"': 'CODE_TYPE',\n    '\"Payer Name\"': 'PAYER_NAME',\n    '\"Plan Name\"': 'PLAN_NAME',\n    '\"Standard Charge\"': 'STANDARD_CHARGE_DOLLAR',\n    '\"Standard Charge Percentage\"': 'STANDARD_CHARGE_PERCENTAGE',\n    '\"Minimum Charge\"': 'MINIMUM_CHARGE',\n    '\"Maximum Charge\"': 'MAXIMUM_CHARGE'\n}\nexisting_cols = df.schema.names\nexisting_columns = {k: v for k, v in columns_mapping.items() if k in existing_cols}\n\nif '\"Standard Charge\"' not in existing_cols:\n    df = df.withColumn('STANDARD_CHARGE_DOLLAR', lit(0.0))\n    existing_columns['STANDARD_CHARGE_DOLLAR'] = 'STANDARD_CHARGE_DOLLAR'\n\nif not existing_columns:\n    raise ValueError(\n        \"None of the expected columns were found in the source table.\\n\"\n        f\"Available columns are:\\n{existing_cols}\"\n    )\ndf = df.select([col(k).alias(v) if k in existing_cols else lit(None).alias(v) \n               for k, v in columns_mapping.items()])\ndf.limit(5).show()\n\nnumeric_columns = ['STANDARD_CHARGE_DOLLAR', 'STANDARD_CHARGE_PERCENTAGE', \n                  'MINIMUM_CHARGE', 'MAXIMUM_CHARGE']\nnumeric_columns = [col for col in numeric_columns if col in df.columns]\n\n#\nfor column in df.columns:\n    df = df.withColumn(column, \n                      when(trim(upper(col(column))) == 'N/A', lit(None))\n                      .otherwise(col(column)))\n\n\nfor column in df.columns:\n    is_blank = (col(column).isNull()) | (length(trim(col(column))) == 0)\n    \n    if column in numeric_columns:\n        df = df.withColumn(column, \n                         when(is_blank, lit(None))\n                         .otherwise(col(column)))\n    else:\n        df = df.withColumn(column,\n                          when(is_blank, lit('0'))\n                          .otherwise(col(column)))\n\nfor column in numeric_columns:\n    df = df.withColumn(column, \n                      to_decimal(col(column), 38, 2).cast(\"FLOAT\"))\n\nfor column in numeric_columns:\n    df = df.withColumn(column,\n                      when(col(column).isNull(), lit(0.0))\n                      .otherwise(col(column)))\n\n#\ncolumn_defs = []\nfor col_name in columns_mapping.values():\n    if col_name in numeric_columns:\n        column_defs.append(f'\"{col_name}\" FLOAT')\n    else:\n        column_defs.append(f'\"{col_name}\" STRING')\n\ncreate_stmt = \"\"\"CREATE OR REPLACE TABLE \"HEALTH_NAV\".\"CORE\".\"NOVANT_HEALTH_MATTHEWS_MEDICAL_CENTER\" (\n\"\"\" + \",\\n\".join(column_defs) + \"\\n)\"\n\nsession.sql(create_stmt).collect()\n\n\ndf.write.save_as_table(\n    '\"HEALTH_NAV\".\"CORE\".\"NOVANT_HEALTH_MATTHEWS_MEDICAL_CENTER\"',\n    mode='overwrite'\n)\n\nprint(\"Data successfully written to HEALTH_NAV.CORE.NOVANT_HEALTH_MATTHEWS_MEDICAL_CENTER\")\nprint(f\"Final columns: {df.columns}\")",
   "execution_count": null
  },
  {
   "cell_type": "markdown",
   "id": "e4a07bef-26fa-4fa8-9b7b-595a491e412f",
   "metadata": {
    "name": "cell16",
    "collapsed": false
   },
   "source": "NOVANT_HEALTH_HUNTERSVILLE_MEDICAL_CENTER"
  },
  {
   "cell_type": "code",
   "id": "c077df6f-c82c-4672-bae3-cf205a7c0faa",
   "metadata": {
    "language": "python",
    "name": "cell15"
   },
   "outputs": [],
   "source": "from snowflake.snowpark import Session\nfrom snowflake.snowpark.functions import col, upper, when, lit, trim, length, to_decimal\n\n\nsession = Session.builder.getOrCreate()\n\n\ndf = session.table('\"HEALTH_NAV\".\"STAGE\".\"NOVANT_HEALTH_HUNTERSVILLE_MEDICAL_CENTER\"')\n\n\ndf = df.filter(upper(col('\"Code Type\"')) == \"CPT\")\n\n\ncolumns_mapping = {\n    'DESCRIPTION': 'DESCRIPTION',\n    'CODE': 'CODE',\n    '\"Code Type\"': 'CODE_TYPE',\n    '\"Payer Name\"': 'PAYER_NAME',\n    '\"Plan Name\"': 'PLAN_NAME',\n    '\"Standard Charge\"': 'STANDARD_CHARGE_DOLLAR',\n    '\"Standard Charge Percentage\"': 'STANDARD_CHARGE_PERCENTAGE',\n    '\"Minimum Charge\"': 'MINIMUM_CHARGE',\n    '\"Maximum Charge\"': 'MAXIMUM_CHARGE'\n}\nexisting_cols = df.schema.names\nexisting_columns = {k: v for k, v in columns_mapping.items() if k in existing_cols}\n\nif '\"Standard Charge\"' not in existing_cols:\n    df = df.withColumn('STANDARD_CHARGE_DOLLAR', lit(0.0))\n    existing_columns['STANDARD_CHARGE_DOLLAR'] = 'STANDARD_CHARGE_DOLLAR'\n\nif not existing_columns:\n    raise ValueError(\n        \"None of the expected columns were found in the source table.\\n\"\n        f\"Available columns are:\\n{existing_cols}\"\n    )\ndf = df.select([col(k).alias(v) if k in existing_cols else lit(None).alias(v) \n               for k, v in columns_mapping.items()])\ndf.limit(5).show()\n\nnumeric_columns = ['STANDARD_CHARGE_DOLLAR', 'STANDARD_CHARGE_PERCENTAGE', \n                  'MINIMUM_CHARGE', 'MAXIMUM_CHARGE']\nnumeric_columns = [col for col in numeric_columns if col in df.columns]\n\nfor column in df.columns:\n    df = df.withColumn(column, \n                      when(trim(upper(col(column))) == 'N/A', lit(None))\n                      .otherwise(col(column)))\n\nfor column in df.columns:\n    is_blank = (col(column).isNull()) | (length(trim(col(column))) == 0)\n    \n    if column in numeric_columns:\n        df = df.withColumn(column, \n                         when(is_blank, lit(None))\n                         .otherwise(col(column)))\n    else:\n        df = df.withColumn(column,\n                          when(is_blank, lit('0'))\n                          .otherwise(col(column)))\nfor column in numeric_columns:\n    df = df.withColumn(column, \n                      to_decimal(col(column), 38, 2).cast(\"FLOAT\"))\nfor column in numeric_columns:\n    df = df.withColumn(column,\n                      when(col(column).isNull(), lit(0.0))\n                      .otherwise(col(column)))\n\n#\ncolumn_defs = []\nfor col_name in columns_mapping.values():\n    if col_name in numeric_columns:\n        column_defs.append(f'\"{col_name}\" FLOAT')\n    else:\n        column_defs.append(f'\"{col_name}\" STRING')\n\ncreate_stmt = \"\"\"CREATE OR REPLACE TABLE \"HEALTH_NAV\".\"CORE\".\"NOVANT_HEALTH_HUNTERSVILLE_MEDICAL_CENTER\" (\n\"\"\" + \",\\n\".join(column_defs) + \"\\n)\"\n\nsession.sql(create_stmt).collect()\n\n\ndf.write.save_as_table(\n    '\"HEALTH_NAV\".\"CORE\".\"NOVANT_HEALTH_HUNTERSVILLE_MEDICAL_CENTER\"',\n    mode='overwrite'\n)\n\nprint(\"Data successfully written to HEALTH_NAV.CORE.NOVANT_HEALTH_HUNTERSVILLE_MEDICAL_CENTER\")\nprint(f\"Final columns: {df.columns}\")",
   "execution_count": null
  },
  {
   "cell_type": "markdown",
   "id": "baac182c-0cd9-4e8f-af92-49c88e2d46e8",
   "metadata": {
    "name": "cell18",
    "collapsed": false
   },
   "source": "NOVANT_HEALTH_BALLANTYNE_MEDICAL_CENTER"
  },
  {
   "cell_type": "markdown",
   "id": "ace08c4e-ae00-41b0-9325-7a607a20b9fc",
   "metadata": {
    "name": "cell20",
    "collapsed": false
   },
   "source": ""
  },
  {
   "cell_type": "code",
   "id": "813f7d85-1d89-4663-8526-f7964cd165ef",
   "metadata": {
    "language": "python",
    "name": "cell17"
   },
   "outputs": [],
   "source": "from snowflake.snowpark import Session\nfrom snowflake.snowpark.functions import col, upper, when, lit, trim, length, to_decimal\n\n\nsession = Session.builder.getOrCreate()\n\n\ndf = session.table('\"HEALTH_NAV\".\"STAGE\".\"NOVANT_HEALTH_BALLANTYNE_MEDICAL_CENTER\"')\n\n\ndf = df.filter(upper(col('\"Code Type\"')) == \"CPT\")\n\n\ncolumns_mapping = {\n    'DESCRIPTION': 'DESCRIPTION',\n    'CODE': 'CODE',\n    '\"Code Type\"': 'CODE_TYPE',\n    '\"Payer Name\"': 'PAYER_NAME',\n    '\"Plan Name\"': 'PLAN_NAME',\n    '\"Standard Charge\"': 'STANDARD_CHARGE_DOLLAR',\n    '\"Standard Charge Percentage\"': 'STANDARD_CHARGE_PERCENTAGE',\n    '\"Minimum Charge\"': 'MINIMUM_CHARGE',\n    '\"Maximum Charge\"': 'MAXIMUM_CHARGE'\n}\nexisting_cols = df.schema.names\nexisting_columns = {k: v for k, v in columns_mapping.items() if k in existing_cols}\n\nif '\"Standard Charge\"' not in existing_cols:\n    df = df.withColumn('STANDARD_CHARGE_DOLLAR', lit(0.0))\n    existing_columns['STANDARD_CHARGE_DOLLAR'] = 'STANDARD_CHARGE_DOLLAR'\n\nif not existing_columns:\n    raise ValueError(\n        \"None of the expected columns were found in the source table.\\n\"\n        f\"Available columns are:\\n{existing_cols}\"\n    )\ndf = df.select([col(k).alias(v) if k in existing_cols else lit(None).alias(v) \n               for k, v in columns_mapping.items()])\ndf.limit(5).show()\n\nnumeric_columns = ['STANDARD_CHARGE_DOLLAR', 'STANDARD_CHARGE_PERCENTAGE', \n                  'MINIMUM_CHARGE', 'MAXIMUM_CHARGE']\nnumeric_columns = [col for col in numeric_columns if col in df.columns]\n\n\nfor column in df.columns:\n    df = df.withColumn(column, \n                      when(trim(upper(col(column))) == 'N/A', lit(None))\n                      .otherwise(col(column)))\n\n\nfor column in df.columns:\n    is_blank = (col(column).isNull()) | (length(trim(col(column))) == 0)\n    \n    if column in numeric_columns:\n        df = df.withColumn(column, \n                         when(is_blank, lit(None))\n                         .otherwise(col(column)))\n    else:\n        df = df.withColumn(column,\n                          when(is_blank, lit('0'))\n                          .otherwise(col(column)))\n\nfor column in numeric_columns:\n    df = df.withColumn(column, \n                      to_decimal(col(column), 38, 2).cast(\"FLOAT\"))\n\nfor column in numeric_columns:\n    df = df.withColumn(column,\n                      when(col(column).isNull(), lit(0.0))\n                      .otherwise(col(column)))\n\n#\ncolumn_defs = []\nfor col_name in columns_mapping.values():\n    if col_name in numeric_columns:\n        column_defs.append(f'\"{col_name}\" FLOAT')\n    else:\n        column_defs.append(f'\"{col_name}\" STRING')\n\ncreate_stmt = \"\"\"CREATE OR REPLACE TABLE \"HEALTH_NAV\".\"CORE\".\"NOVANT_HEALTH_BALLANTYNE_MEDICAL_CENTER\" (\n\"\"\" + \",\\n\".join(column_defs) + \"\\n)\"\n\nsession.sql(create_stmt).collect()\n\n\ndf.write.save_as_table(\n    '\"HEALTH_NAV\".\"CORE\".\"NOVANT_HEALTH_BALLANTYNE_MEDICAL_CENTER\"',\n    mode='overwrite'\n)\n\nprint(\"Data successfully written to HEALTH_NAV.CORE.NOVANT_HEALTH_BALLANTYNE_MEDICAL_CENTER\")\nprint(f\"Final columns: {df.columns}\")",
   "execution_count": null
  },
  {
   "cell_type": "markdown",
   "id": "df9072f3-cb46-4b37-b6bd-8bc7c25e44e7",
   "metadata": {
    "name": "cell21",
    "collapsed": false
   },
   "source": "NOVANT_HEALTH_PRESBYTERIAN_MEDICAL_CENTER"
  },
  {
   "cell_type": "code",
   "id": "d875be81-1030-47c9-8656-b9f63def9220",
   "metadata": {
    "language": "python",
    "name": "cell19"
   },
   "outputs": [],
   "source": "from snowflake.snowpark import Session\nfrom snowflake.snowpark.functions import col, upper, when, lit, trim, length, to_decimal\n\n\nsession = Session.builder.getOrCreate()\n\ndf = session.table('\"HEALTH_NAV\".\"STAGE\".\"NOVANT_HEALTH_PRESBYTERIAN_MEDICAL_CENTER\"')\n\ndf = df.filter(upper(col('\"Code Type\"')) == \"CPT\")\n\ncolumns_mapping = {\n    'DESCRIPTION': 'DESCRIPTION',\n    'CODE': 'CODE',\n    '\"Code Type\"': 'CODE_TYPE',\n    '\"Payer Name\"': 'PAYER_NAME',\n    '\"Plan Name\"': 'PLAN_NAME',\n    '\"Standard Charge\"': 'STANDARD_CHARGE_DOLLAR',\n    '\"Standard Charge Percentage\"': 'STANDARD_CHARGE_PERCENTAGE',\n    '\"Minimum Charge\"': 'MINIMUM_CHARGE',\n    '\"Maximum Charge\"': 'MAXIMUM_CHARGE'\n}\nexisting_cols = df.schema.names\nexisting_columns = {k: v for k, v in columns_mapping.items() if k in existing_cols}\n\nif '\"Standard Charge\"' not in existing_cols:\n    df = df.withColumn('STANDARD_CHARGE_DOLLAR', lit(0.0))\n    existing_columns['STANDARD_CHARGE_DOLLAR'] = 'STANDARD_CHARGE_DOLLAR'\n\nif not existing_columns:\n    raise ValueError(\n        \"None of the expected columns were found in the source table.\\n\"\n        f\"Available columns are:\\n{existing_cols}\"\n    )\ndf = df.select([col(k).alias(v) if k in existing_cols else lit(None).alias(v) \n               for k, v in columns_mapping.items()])\ndf.limit(5).show()\n\nnumeric_columns = ['STANDARD_CHARGE_DOLLAR', 'STANDARD_CHARGE_PERCENTAGE', \n                  'MINIMUM_CHARGE', 'MAXIMUM_CHARGE']\nnumeric_columns = [col for col in numeric_columns if col in df.columns]\n\n\nfor column in df.columns:\n    df = df.withColumn(column, \n                      when(trim(upper(col(column))) == 'N/A', lit(None))\n                      .otherwise(col(column)))\n\n\nfor column in df.columns:\n    is_blank = (col(column).isNull()) | (length(trim(col(column))) == 0)\n    \n    if column in numeric_columns:\n        df = df.withColumn(column, \n                         when(is_blank, lit(None))\n                         .otherwise(col(column)))\n    else:\n        df = df.withColumn(column,\n                          when(is_blank, lit('0'))\n                          .otherwise(col(column)))\n\nfor column in numeric_columns:\n    df = df.withColumn(column, \n                      to_decimal(col(column), 38, 2).cast(\"FLOAT\"))\n\nfor column in numeric_columns:\n    df = df.withColumn(column,\n                      when(col(column).isNull(), lit(0.0))\n                      .otherwise(col(column)))\n\n#\ncolumn_defs = []\nfor col_name in columns_mapping.values():\n    if col_name in numeric_columns:\n        column_defs.append(f'\"{col_name}\" FLOAT')\n    else:\n        column_defs.append(f'\"{col_name}\" STRING')\n\ncreate_stmt = \"\"\"CREATE OR REPLACE TABLE \"HEALTH_NAV\".\"CORE\".\"NOVANT_HEALTH_PRESBYTERIAN_MEDICAL_CENTER\" (\n\"\"\" + \",\\n\".join(column_defs) + \"\\n)\"\n\nsession.sql(create_stmt).collect()\n\n\ndf.write.save_as_table(\n    '\"HEALTH_NAV\".\"CORE\".\"NOVANT_HEALTH_PRESBYTERIAN_MEDICAL_CENTER\"',\n    mode='overwrite'\n)\n\nprint(\"Data successfully written to HEALTH_NAV.CORE.NOVANT_HEALTH_PRESBYTERIAN_MEDICAL_CENTER\")\nprint(f\"Final columns: {df.columns}\")",
   "execution_count": null
  },
  {
   "cell_type": "markdown",
   "id": "a2b93d3c-7f99-44a2-96e8-77c3c42e9fb2",
   "metadata": {
    "name": "cell24",
    "collapsed": false
   },
   "source": "UT_HEALTH_HENDERSON"
  },
  {
   "cell_type": "code",
   "id": "d6b35925-c850-453e-89fb-9b0078a2e210",
   "metadata": {
    "language": "python",
    "name": "cell23"
   },
   "outputs": [],
   "source": "from snowflake.snowpark import Session\nfrom snowflake.snowpark.functions import col, upper, when, lit, trim, length\n\n\nsession = Session.builder.getOrCreate()\n\ndf = session.table('\"HEALTH_NAV\".\"STAGE\".\"UT_HEALTH_HENDERSON\"')\n\ndf = df.filter(upper(col('\"code|2|type\"')) == \"CPT\")\n\n\ncolumns_mapping = {\n    'DESCRIPTION': 'DESCRIPTION',\n    '\"code|2\"': 'CODE',\n    '\"code|2|type\"': 'CODE_TYPE',\n    'PAYER_NAME': 'PAYER_NAME',\n    'PLAN_NAME': 'PLAN_NAME',\n    '\"standard_charge|negotiated_dollar\"': 'STANDARD_CHARGE_DOLLAR',\n    '\"standard_charge|negotiated_percentage\"': 'STANDARD_CHARGE_PERCENTAGE',\n    '\"standard_charge|min\"': 'MINIMUM_CHARGE',\n    '\"standard_charge|max\"': 'MAXIMUM_CHARGE'\n}\n\nactual_cols_normalized = {col_name.lower().replace('\"', ''): col_name for col_name in df.schema.names}\n\n\nexisting_columns = {}\nfor k, v in columns_mapping.items():\n    normalized_key = k.lower().replace('\"', '')\n    if normalized_key in actual_cols_normalized:\n        actual_col_name = actual_cols_normalized[normalized_key]\n        existing_columns[actual_col_name] = v\n\n\nif not existing_columns:\n    raise ValueError(\n        \"None of the expected columns were found in the source table.\\n\"\n        f\"Available columns are:\\n{existing_cols}\"\n    )\n\ndf = df.select([col(k).alias(v) for k, v in existing_columns.items()])\n\n\nnumeric_columns = [v for k, v in existing_columns.items() \n                  if any(x in k.lower() for x in ['charge', 'amount', 'percentage', 'min', 'max'])]\n\n\nfor column in existing_columns.values():\n    \n    is_blank = (col(column).isNull()) | (length(trim(col(column))) == 0)\n    \n    if column in numeric_columns:\n        \n        df = df.withColumn(column, \n                         when(is_blank, lit(0))\n                         .otherwise(col(column)))\n    else:\n        \n        df = df.withColumn(column,\n                          when(is_blank, lit('0'))\n                          .otherwise(col(column)))\n\n\nif 'STANDARD_CHARGE_DOLLAR' in existing_columns.values() and 'STANDARD_CHARGE_PERCENTAGE' in existing_columns.values():\n    df = df.filter(\n        (col('STANDARD_CHARGE_DOLLAR') != 0) | \n        (col('STANDARD_CHARGE_PERCENTAGE') != 0))\nelse:\n    print(\"Warning: Could not filter null charge rows - required columns not found\")\n\n\nif 'STANDARD_CHARGE_PERCENTAGE' in numeric_columns and 'MAXIMUM_CHARGE' in numeric_columns:\n    has_percentage = (col('STANDARD_CHARGE_DOLLAR') == 0) & (col('STANDARD_CHARGE_PERCENTAGE') > 0)\n    calculated_dollar = (col('STANDARD_CHARGE_PERCENTAGE') * col('MAXIMUM_CHARGE') * 0.01)\n    \n    df = df.withColumn('STANDARD_CHARGE_DOLLAR',\n                      when(has_percentage, calculated_dollar)\n                      .otherwise(col('STANDARD_CHARGE_DOLLAR')))\n    \n\n# Step 9: Prepare CREATE TABLE statement with cleaned column names\ncolumn_defs = \",\\n\".join([f'\"{col}\" STRING' for col in existing_columns.values()])\n\ncreate_stmt = f\"\"\"\n    CREATE OR REPLACE TABLE \"HEALTH_NAV\".\"CORE\".\"UT_HEALTH_HENDERSON\" (\n        {column_defs}\n    )\n\"\"\"\nsession.sql(create_stmt).collect()\n\n# Step 10: Write to the destination table\ndf.write.save_as_table(\n    '\"HEALTH_NAV\".\"CORE\".\"UT_HEALTH_HENDERSON\"',\n    mode='overwrite'\n)\n\nprint(\"Data successfully written to HEALTH_NAV.CORE.UT_HEALTH_HENDERSON\")",
   "execution_count": null
  },
  {
   "cell_type": "markdown",
   "id": "b336b691-ac5f-4f61-ac2c-f9cc453c7f19",
   "metadata": {
    "name": "cell22",
    "collapsed": false
   },
   "source": "Elmhurst memorial hospital"
  },
  {
   "cell_type": "code",
   "id": "935c31da-c3f7-47ea-8edd-fe7803aa7d7e",
   "metadata": {
    "language": "python",
    "name": "cell25"
   },
   "outputs": [],
   "source": "from snowflake.snowpark import Session\nfrom snowflake.snowpark.functions import col, upper, when, lit, trim, length, to_decimal\n\n\nsession = Session.builder.getOrCreate()\n\n\ndf = session.table('\"HEALTH_NAV\".\"STAGE\".\"ELMHURST_MEMORIAL_HOSPITAL\"')\n\n\ndf = df.filter(upper(col('\"Code Type\"')) == \"CPT\")\n\n\ncolumns_mapping = {\n    'DESCRIPTION': 'DESCRIPTION',\n    'CODE': 'CODE',\n    '\"Code Type\"': 'CODE_TYPE',\n    '\"Payer Name\"': 'PAYER_NAME',\n    '\"Plan Name\"': 'PLAN_NAME',\n    '\"Standard Charge Dollar\"': 'STANDARD_CHARGE_DOLLAR',\n    '\"Standard Charge Percentage\"': 'STANDARD_CHARGE_PERCENTAGE',\n    '\"Minimum Charge\"': 'MINIMUM_CHARGE',\n    '\"Maximum Charge\"': 'MAXIMUM_CHARGE'\n}\n\n\nexisting_cols = df.schema.names\nexisting_columns = {k: v for k, v in columns_mapping.items() if k in existing_cols}\n\n\nif '\"Standard Charge Dollar\"' not in existing_cols and '\"Standard Charge\"' not in existing_cols:\n    df = df.withColumn('STANDARD_CHARGE_DOLLAR', lit(0.0))\n    existing_columns['STANDARD_CHARGE_DOLLAR'] = 'STANDARD_CHARGE_DOLLAR'\n\n\ndf = df.select([col(k).alias(v) if k in existing_cols else lit(None).alias(v)\n               for k, v in columns_mapping.items()])\n\n\nnumeric_columns = ['STANDARD_CHARGE_DOLLAR', 'STANDARD_CHARGE_PERCENTAGE',\n                   'MINIMUM_CHARGE', 'MAXIMUM_CHARGE']\nnumeric_columns = [c for c in numeric_columns if c in df.columns]\n\n\nfor column in df.columns:\n    df = df.withColumn(column,\n                       when(trim(upper(col(column))) == 'N/A', lit(None))\n                       .otherwise(col(column)))\n\n\nfor column in df.columns:\n    is_blank = (col(column).isNull()) | (length(trim(col(column))) == 0)\n    if column in numeric_columns:\n        df = df.withColumn(column, when(is_blank, lit(None)).otherwise(col(column)))\n    else:\n        df = df.withColumn(column, when(is_blank, lit('0')).otherwise(col(column)))\n\n\nfor column in numeric_columns:\n    df = df.withColumn(column, to_decimal(col(column), 38, 2).cast(\"FLOAT\"))\n\n\nfor column in numeric_columns:\n    df = df.withColumn(column, when(col(column).isNull(), lit(0.0)).otherwise(col(column)))\n\n\nif 'STANDARD_CHARGE_PERCENTAGE' in df.columns and 'MAXIMUM_CHARGE' in df.columns:\n    df = df.withColumn(\n        'STANDARD_CHARGE_DOLLAR',\n        when(\n            (col('STANDARD_CHARGE_DOLLAR') == 0) &\n            (col('STANDARD_CHARGE_PERCENTAGE') > 0) &\n            (col('MAXIMUM_CHARGE') > 0),\n            col('STANDARD_CHARGE_PERCENTAGE') * col('MAXIMUM_CHARGE') * 0.01\n        ).otherwise(col('STANDARD_CHARGE_DOLLAR'))\n    )\n\n\ncolumn_defs = []\nfor col_name in columns_mapping.values():\n    if col_name in numeric_columns:\n        column_defs.append(f'\"{col_name}\" FLOAT')\n    else:\n        column_defs.append(f'\"{col_name}\" STRING')\n\ncreate_stmt = \"\"\"CREATE OR REPLACE TABLE \"HEALTH_NAV\".\"CORE\".\"ELMHURST_MEMORIAL_HOSPITAL\" (\\n\"\"\" + \",\\n\".join(column_defs) + \"\\n)\"\n\nsession.sql(create_stmt).collect()\n\n\ndf.write.save_as_table(\n    '\"HEALTH_NAV\".\"CORE\".\"ELMHURST_MEMORIAL_HOSPITAL\"',\n    mode='overwrite'\n)\n\nprint(\"Data successfully written to HEALTH_NAV.CORE.ELMHURST_MEMORIAL_HOSPITAL\")\nprint(f\"Final columns: {df.columns}\")\n",
   "execution_count": null
  },
  {
   "cell_type": "markdown",
   "id": "1017e75c-22de-4285-8c40-0dc1d551f968",
   "metadata": {
    "name": "cell26",
    "collapsed": false
   },
   "source": "Edward Hospital"
  },
  {
   "cell_type": "code",
   "id": "a3066ee8-b933-464c-85bd-262be1b1c002",
   "metadata": {
    "language": "python",
    "name": "cell27"
   },
   "outputs": [],
   "source": "from snowflake.snowpark import Session\nfrom snowflake.snowpark.functions import col, upper, when, lit, trim, length, to_decimal\n\n\nsession = Session.builder.getOrCreate()\n\n\ndf = session.table('\"HEALTH_NAV\".\"STAGE\".\"EDWARD_HOSPITAL\"')\n\n\ndf = df.filter(upper(col('\"Code Type\"')) == \"CPT\")\n\n\ncolumns_mapping = {\n    'DESCRIPTION': 'DESCRIPTION',\n    'CODE': 'CODE',\n    '\"Code Type\"': 'CODE_TYPE',\n    '\"Payer Name\"': 'PAYER_NAME',\n    '\"Plan Name\"': 'PLAN_NAME',\n    '\"Standard Charge Dollar\"': 'STANDARD_CHARGE_DOLLAR',\n    '\"Standard Charge Percentage\"': 'STANDARD_CHARGE_PERCENTAGE',\n    '\"Minimum Charge\"': 'MINIMUM_CHARGE',\n    '\"Maximum Charge\"': 'MAXIMUM_CHARGE'\n}\n\n\nexisting_cols = df.schema.names\nexisting_columns = {k: v for k, v in columns_mapping.items() if k in existing_cols}\n\n\nif '\"Standard Charge Dollar\"' not in existing_cols and '\"Standard Charge\"' not in existing_cols:\n    df = df.withColumn('STANDARD_CHARGE_DOLLAR', lit(0.0))\n    existing_columns['STANDARD_CHARGE_DOLLAR'] = 'STANDARD_CHARGE_DOLLAR'\n\n\ndf = df.select([col(k).alias(v) if k in existing_cols else lit(None).alias(v)\n               for k, v in columns_mapping.items()])\n\n\nnumeric_columns = ['STANDARD_CHARGE_DOLLAR', 'STANDARD_CHARGE_PERCENTAGE',\n                   'MINIMUM_CHARGE', 'MAXIMUM_CHARGE']\nnumeric_columns = [c for c in numeric_columns if c in df.columns]\n\n\nfor column in df.columns:\n    df = df.withColumn(column,\n                       when(trim(upper(col(column))) == 'N/A', lit(None))\n                       .otherwise(col(column)))\n\n\nfor column in df.columns:\n    is_blank = (col(column).isNull()) | (length(trim(col(column))) == 0)\n    if column in numeric_columns:\n        df = df.withColumn(column, when(is_blank, lit(None)).otherwise(col(column)))\n    else:\n        df = df.withColumn(column, when(is_blank, lit('0')).otherwise(col(column)))\n\n\nfor column in numeric_columns:\n    df = df.withColumn(column, to_decimal(col(column), 38, 2).cast(\"FLOAT\"))\n\n\nfor column in numeric_columns:\n    df = df.withColumn(column, when(col(column).isNull(), lit(0.0)).otherwise(col(column)))\n\n\nif 'STANDARD_CHARGE_PERCENTAGE' in df.columns and 'MAXIMUM_CHARGE' in df.columns:\n    df = df.withColumn(\n        'STANDARD_CHARGE_DOLLAR',\n        when(\n            (col('STANDARD_CHARGE_DOLLAR') == 0) &\n            (col('STANDARD_CHARGE_PERCENTAGE') > 0) &\n            (col('MAXIMUM_CHARGE') > 0),\n            col('STANDARD_CHARGE_PERCENTAGE') * col('MAXIMUM_CHARGE') * 0.01\n        ).otherwise(col('STANDARD_CHARGE_DOLLAR'))\n    )\n\n\ncolumn_defs = []\nfor col_name in columns_mapping.values():\n    if col_name in numeric_columns:\n        column_defs.append(f'\"{col_name}\" FLOAT')\n    else:\n        column_defs.append(f'\"{col_name}\" STRING')\n\ncreate_stmt = \"\"\"CREATE OR REPLACE TABLE \"HEALTH_NAV\".\"CORE\".\"EDWARD_HOSPITAL\" (\\n\"\"\" + \",\\n\".join(column_defs) + \"\\n)\"\n\nsession.sql(create_stmt).collect()\n\n# Step 15: Write to destination\ndf.write.save_as_table(\n    '\"HEALTH_NAV\".\"CORE\".\"EDWARD_HOSPITAL\"',\n    mode='overwrite'\n)\n\nprint(\"Data successfully written to HEALTH_NAV.CORE.EDWARD_HOSPITAL\")\nprint(f\"Final columns: {df.columns}\")\n",
   "execution_count": null
  },
  {
   "cell_type": "markdown",
   "id": "4ac5e43a-762d-4c61-b02d-d98fb6615c48",
   "metadata": {
    "name": "cell28",
    "collapsed": false
   },
   "source": "Linden Oaks Hospital"
  },
  {
   "cell_type": "code",
   "id": "dc90c7d4-cc0e-4d17-9c2a-38a43c80b10e",
   "metadata": {
    "language": "python",
    "name": "cell29"
   },
   "outputs": [],
   "source": "from snowflake.snowpark import Session\nfrom snowflake.snowpark.functions import col, upper, when, lit, trim, length, to_decimal\n\n\nsession = Session.builder.getOrCreate()\n\n\ndf = session.table('\"HEALTH_NAV\".\"STAGE\".\"LINDEN_OAKS_HOSPITAL\"')\n\n\ndf = df.filter(upper(col('\"Code Type\"')) == \"CPT\")\n\n\ncolumns_mapping = {\n    'DESCRIPTION': 'DESCRIPTION',\n    'CODE': 'CODE',\n    '\"Code Type\"': 'CODE_TYPE',\n    '\"Payer Name\"': 'PAYER_NAME',\n    '\"Plan Name\"': 'PLAN_NAME',\n    '\"Standard Charge Dollar\"': 'STANDARD_CHARGE_DOLLAR',\n    '\"Standard Charge Percentage\"': 'STANDARD_CHARGE_PERCENTAGE',\n    '\"Minimum Charge\"': 'MINIMUM_CHARGE',\n    '\"Maximum Charge\"': 'MAXIMUM_CHARGE'\n}\n\n\nexisting_cols = df.schema.names\nexisting_columns = {k: v for k, v in columns_mapping.items() if k in existing_cols}\n\n\nif '\"Standard Charge Dollar\"' not in existing_cols and '\"Standard Charge\"' not in existing_cols:\n    df = df.withColumn('STANDARD_CHARGE_DOLLAR', lit(0.0))\n    existing_columns['STANDARD_CHARGE_DOLLAR'] = 'STANDARD_CHARGE_DOLLAR'\n\n\ndf = df.select([col(k).alias(v) if k in existing_cols else lit(None).alias(v)\n               for k, v in columns_mapping.items()])\n\n\nnumeric_columns = ['STANDARD_CHARGE_DOLLAR', 'STANDARD_CHARGE_PERCENTAGE',\n                   'MINIMUM_CHARGE', 'MAXIMUM_CHARGE']\nnumeric_columns = [c for c in numeric_columns if c in df.columns]\n\n\nfor column in df.columns:\n    df = df.withColumn(column,\n                       when(trim(upper(col(column))) == 'N/A', lit(None))\n                       .otherwise(col(column)))\n\n\nfor column in df.columns:\n    is_blank = (col(column).isNull()) | (length(trim(col(column))) == 0)\n    if column in numeric_columns:\n        df = df.withColumn(column, when(is_blank, lit(None)).otherwise(col(column)))\n    else:\n        df = df.withColumn(column, when(is_blank, lit('0')).otherwise(col(column)))\n\n\nfor column in numeric_columns:\n    df = df.withColumn(column, to_decimal(col(column), 38, 2).cast(\"FLOAT\"))\n\n\nfor column in numeric_columns:\n    df = df.withColumn(column, when(col(column).isNull(), lit(0.0)).otherwise(col(column)))\n\n\nif 'STANDARD_CHARGE_PERCENTAGE' in df.columns and 'MAXIMUM_CHARGE' in df.columns:\n    df = df.withColumn(\n        'STANDARD_CHARGE_DOLLAR',\n        when(\n            (col('STANDARD_CHARGE_DOLLAR') == 0) &\n            (col('STANDARD_CHARGE_PERCENTAGE') > 0) &\n            (col('MAXIMUM_CHARGE') > 0),\n            col('STANDARD_CHARGE_PERCENTAGE') * col('MAXIMUM_CHARGE') * 0.01\n        ).otherwise(col('STANDARD_CHARGE_DOLLAR'))\n    )\n\n\ncolumn_defs = []\nfor col_name in columns_mapping.values():\n    if col_name in numeric_columns:\n        column_defs.append(f'\"{col_name}\" FLOAT')\n    else:\n        column_defs.append(f'\"{col_name}\" STRING')\n\ncreate_stmt = \"\"\"CREATE OR REPLACE TABLE \"HEALTH_NAV\".\"CORE\".\"LINDEN_OAKS_HOSPITAL\" (\\n\"\"\" + \",\\n\".join(column_defs) + \"\\n)\"\n\nsession.sql(create_stmt).collect()\n\n\ndf.write.save_as_table(\n    '\"HEALTH_NAV\".\"CORE\".\"LINDEN_OAKS_HOSPITAL\"',\n    mode='overwrite'\n)\n\nprint(\"Data successfully written to HEALTH_NAV.CORE.LINDEN_OAKS_HOSPITAL\")\nprint(f\"Final columns: {df.columns}\")\n",
   "execution_count": null
  },
  {
   "cell_type": "markdown",
   "id": "9eec069a-4088-43c2-b4d1-e050a9c4b228",
   "metadata": {
    "name": "cell30",
    "collapsed": false
   },
   "source": "touchette"
  },
  {
   "cell_type": "code",
   "id": "4d687c99-cc2c-4a27-9dc9-8692160341c0",
   "metadata": {
    "language": "python",
    "name": "cell31"
   },
   "outputs": [],
   "source": "from snowflake.snowpark import Session\nfrom snowflake.snowpark.functions import col, upper, when, lit, trim, length, to_decimal\n\n\nsession = Session.builder.getOrCreate()\n\n\ndf = session.table('\"HEALTH_NAV\".\"STAGE\".\"TOUCHETTE_REGIONAL_HOSPITAL\"')\n\n\ndf = df.filter(upper(col('\"Code Type\"')) == \"CPT\")\n\n\ncolumns_mapping = {\n    'DESCRIPTION': 'DESCRIPTION',\n    'CODE': 'CODE',\n    '\"Code Type\"': 'CODE_TYPE',\n    '\"Payer Name\"': 'PAYER_NAME',\n    '\"Plan Name\"': 'PLAN_NAME',\n    '\"Standard Charge Dollar\"': 'STANDARD_CHARGE_DOLLAR',\n    '\"Standard Charge Percentage\"': 'STANDARD_CHARGE_PERCENTAGE',\n    '\"Minimum Charge\"': 'MINIMUM_CHARGE',\n    '\"Maximum Charge\"': 'MAXIMUM_CHARGE'\n}\n\n\nexisting_cols = df.schema.names\nexisting_columns = {k: v for k, v in columns_mapping.items() if k in existing_cols}\n\n\nif '\"Standard Charge Dollar\"' not in existing_cols and '\"Standard Charge\"' not in existing_cols:\n    df = df.withColumn('STANDARD_CHARGE_DOLLAR', lit(0.0))\n    existing_columns['STANDARD_CHARGE_DOLLAR'] = 'STANDARD_CHARGE_DOLLAR'\n\n\ndf = df.select([col(k).alias(v) if k in existing_cols else lit(None).alias(v)\n               for k, v in columns_mapping.items()])\n\n\nnumeric_columns = ['STANDARD_CHARGE_DOLLAR', 'STANDARD_CHARGE_PERCENTAGE',\n                   'MINIMUM_CHARGE', 'MAXIMUM_CHARGE']\nnumeric_columns = [c for c in numeric_columns if c in df.columns]\n\n\nfor column in df.columns:\n    df = df.withColumn(column,\n                       when(trim(upper(col(column))) == 'N/A', lit(None))\n                       .otherwise(col(column)))\n\n\nfor column in df.columns:\n    is_blank = (col(column).isNull()) | (length(trim(col(column))) == 0)\n    if column in numeric_columns:\n        df = df.withColumn(column, when(is_blank, lit(None)).otherwise(col(column)))\n    else:\n        df = df.withColumn(column, when(is_blank, lit('0')).otherwise(col(column)))\n\n\nfor column in numeric_columns:\n    df = df.withColumn(column, to_decimal(col(column), 38, 2).cast(\"FLOAT\"))\n\n\nfor column in numeric_columns:\n    df = df.withColumn(column, when(col(column).isNull(), lit(0.0)).otherwise(col(column)))\n\n\nif 'STANDARD_CHARGE_PERCENTAGE' in df.columns and 'MAXIMUM_CHARGE' in df.columns:\n    df = df.withColumn(\n        'STANDARD_CHARGE_DOLLAR',\n        when(\n            (col('STANDARD_CHARGE_DOLLAR') == 0) &\n            (col('STANDARD_CHARGE_PERCENTAGE') > 0) &\n            (col('MAXIMUM_CHARGE') > 0),\n            col('STANDARD_CHARGE_PERCENTAGE') * col('MAXIMUM_CHARGE') * 0.01\n        ).otherwise(col('STANDARD_CHARGE_DOLLAR'))\n    )\n\n\ncolumn_defs = []\nfor col_name in columns_mapping.values():\n    if col_name in numeric_columns:\n        column_defs.append(f'\"{col_name}\" FLOAT')\n    else:\n        column_defs.append(f'\"{col_name}\" STRING')\n\ncreate_stmt = \"\"\"CREATE OR REPLACE TABLE \"HEALTH_NAV\".\"CORE\".\"TOUCHETTE_REGIONAL_HOSPITAL\" (\\n\"\"\" + \",\\n\".join(column_defs) + \"\\n)\"\n\nsession.sql(create_stmt).collect()\n\n\ndf.write.save_as_table(\n    '\"HEALTH_NAV\".\"CORE\".\"TOUCHETTE_REGIONAL_HOSPITAL\"',\n    mode='overwrite'\n)\n\nprint(\"Data successfully written to HEALTH_NAV.CORE.TOUCHETTE_REGIONAL_HOSPITAL\")\nprint(f\"Final columns: {df.columns}\")\n",
   "execution_count": null
  },
  {
   "cell_type": "code",
   "id": "f6b3b043-6ce8-4716-b75b-ae8c2091fece",
   "metadata": {
    "language": "python",
    "name": "cell32"
   },
   "outputs": [],
   "source": "df.limit(5).show()",
   "execution_count": null
  },
  {
   "cell_type": "markdown",
   "id": "cfa1d71b-8922-49ec-a63d-952525bb409b",
   "metadata": {
    "name": "cell33",
    "collapsed": false
   },
   "source": "caromont"
  },
  {
   "cell_type": "code",
   "id": "292af4d3-e11d-4473-aee2-211e889b098d",
   "metadata": {
    "language": "python",
    "name": "cell34"
   },
   "outputs": [],
   "source": "from snowflake.snowpark import Session\nfrom snowflake.snowpark.functions import col, upper, when, lit, trim, length, to_decimal\n\n\nsession = Session.builder.getOrCreate()\n\n\ndf = session.table('\"HEALTH_NAV\".\"STAGE\".\"CAROMONT_PART1\"')\n\n\ndf = df.filter(upper(col('\"Code Type\"')) == \"CPT\")\n\n\ncolumns_mapping = {\n    'DESCRIPTION': 'DESCRIPTION',\n    'CODE': 'CODE',\n    '\"Code Type\"': 'CODE_TYPE',\n    '\"Payer Name\"': 'PAYER_NAME',\n    '\"Plan Name\"': 'PLAN_NAME',\n    '\"Standard Charge Dollar\"': 'STANDARD_CHARGE_DOLLAR',\n    '\"Standard Charge Percentage\"': 'STANDARD_CHARGE_PERCENTAGE',\n    '\"Minimum Charge\"': 'MINIMUM_CHARGE',\n    '\"Maximum Charge\"': 'MAXIMUM_CHARGE'\n}\n\n\nexisting_cols = df.schema.names\nexisting_columns = {k: v for k, v in columns_mapping.items() if k in existing_cols}\n\n\nif '\"Standard Charge Dollar\"' not in existing_cols and '\"Standard Charge\"' not in existing_cols:\n    df = df.withColumn('STANDARD_CHARGE_DOLLAR', lit(0.0))\n    existing_columns['STANDARD_CHARGE_DOLLAR'] = 'STANDARD_CHARGE_DOLLAR'\n\n\ndf = df.select([col(k).alias(v) if k in existing_cols else lit(None).alias(v)\n               for k, v in columns_mapping.items()])\n\n\nnumeric_columns = ['STANDARD_CHARGE_DOLLAR', 'STANDARD_CHARGE_PERCENTAGE',\n                   'MINIMUM_CHARGE', 'MAXIMUM_CHARGE']\nnumeric_columns = [c for c in numeric_columns if c in df.columns]\n\n\nfor column in df.columns:\n    df = df.withColumn(column,\n                       when(trim(upper(col(column))) == 'N/A', lit(None))\n                       .otherwise(col(column)))\n\n\nfor column in df.columns:\n    is_blank = (col(column).isNull()) | (length(trim(col(column))) == 0)\n    if column in numeric_columns:\n        df = df.withColumn(column, when(is_blank, lit(None)).otherwise(col(column)))\n    else:\n        df = df.withColumn(column, when(is_blank, lit('0')).otherwise(col(column)))\n\n\nfor column in numeric_columns:\n    df = df.withColumn(column, to_decimal(col(column), 38, 2).cast(\"FLOAT\"))\n\n\nfor column in numeric_columns:\n    df = df.withColumn(column, when(col(column).isNull(), lit(0.0)).otherwise(col(column)))\n\n\nif 'STANDARD_CHARGE_PERCENTAGE' in df.columns and 'MAXIMUM_CHARGE' in df.columns:\n    df = df.withColumn(\n        'STANDARD_CHARGE_DOLLAR',\n        when(\n            (col('STANDARD_CHARGE_DOLLAR') == 0) &\n            (col('STANDARD_CHARGE_PERCENTAGE') > 0) &\n            (col('MAXIMUM_CHARGE') > 0),\n            col('STANDARD_CHARGE_PERCENTAGE') * col('MAXIMUM_CHARGE') * 0.01\n        ).otherwise(col('STANDARD_CHARGE_DOLLAR'))\n    )\n\n\ncolumn_defs = []\nfor col_name in columns_mapping.values():\n    if col_name in numeric_columns:\n        column_defs.append(f'\"{col_name}\" FLOAT')\n    else:\n        column_defs.append(f'\"{col_name}\" STRING')\n\ncreate_stmt = \"\"\"CREATE OR REPLACE TABLE \"HEALTH_NAV\".\"CORE\".\"CAROMONT_PART1\" (\\n\"\"\" + \",\\n\".join(column_defs) + \"\\n)\"\n\nsession.sql(create_stmt).collect()\n\n\ndf.write.save_as_table(\n    '\"HEALTH_NAV\".\"CORE\".\"CAROMONT_PART1\"',\n    mode='overwrite'\n)\n\nprint(\"Data successfully written to HEALTH_NAV.CORE.CAROMONT_PART1\")\nprint(f\"Final columns: {df.columns}\")\n",
   "execution_count": null
  },
  {
   "cell_type": "code",
   "id": "8ed8e70e-da9d-4192-8f4a-03c80f5b5149",
   "metadata": {
    "language": "python",
    "name": "cell35"
   },
   "outputs": [],
   "source": "df.limit(5).show()",
   "execution_count": null
  },
  {
   "cell_type": "code",
   "id": "415b1037-caff-4cba-ba57-ce170a8386fd",
   "metadata": {
    "language": "python",
    "name": "cell36"
   },
   "outputs": [],
   "source": "from snowflake.snowpark import Session\nfrom snowflake.snowpark.functions import col, upper, when, lit, trim, length, to_decimal\n\n\nsession = Session.builder.getOrCreate()\n\n\ndf = session.table('\"HEALTH_NAV\".\"STAGE\".\"CAROMONT_PART2\"')\n\n\ndf = df.filter(upper(col('\"Code Type\"')) == \"CPT\")\n\n\ncolumns_mapping = {\n    'DESCRIPTION': 'DESCRIPTION',\n    'CODE': 'CODE',\n    '\"Code Type\"': 'CODE_TYPE',\n    '\"Payer Name\"': 'PAYER_NAME',\n    '\"Plan Name\"': 'PLAN_NAME',\n    '\"Standard Charge Dollar\"': 'STANDARD_CHARGE_DOLLAR',\n    '\"Standard Charge Percentage\"': 'STANDARD_CHARGE_PERCENTAGE',\n    '\"Minimum Charge\"': 'MINIMUM_CHARGE',\n    '\"Maximum Charge\"': 'MAXIMUM_CHARGE'\n}\n\n\nexisting_cols = df.schema.names\nexisting_columns = {k: v for k, v in columns_mapping.items() if k in existing_cols}\n\n\nif '\"Standard Charge Dollar\"' not in existing_cols and '\"Standard Charge\"' not in existing_cols:\n    df = df.withColumn('STANDARD_CHARGE_DOLLAR', lit(0.0))\n    existing_columns['STANDARD_CHARGE_DOLLAR'] = 'STANDARD_CHARGE_DOLLAR'\n\n\ndf = df.select([col(k).alias(v) if k in existing_cols else lit(None).alias(v)\n               for k, v in columns_mapping.items()])\n\n\nnumeric_columns = ['STANDARD_CHARGE_DOLLAR', 'STANDARD_CHARGE_PERCENTAGE',\n                   'MINIMUM_CHARGE', 'MAXIMUM_CHARGE']\nnumeric_columns = [c for c in numeric_columns if c in df.columns]\n\n\nfor column in df.columns:\n    df = df.withColumn(column,\n                       when(trim(upper(col(column))) == 'N/A', lit(None))\n                       .otherwise(col(column)))\n\n\nfor column in df.columns:\n    is_blank = (col(column).isNull()) | (length(trim(col(column))) == 0)\n    if column in numeric_columns:\n        df = df.withColumn(column, when(is_blank, lit(None)).otherwise(col(column)))\n    else:\n        df = df.withColumn(column, when(is_blank, lit('0')).otherwise(col(column)))\n\n\nfor column in numeric_columns:\n    df = df.withColumn(column, to_decimal(col(column), 38, 2).cast(\"FLOAT\"))\n\n\nfor column in numeric_columns:\n    df = df.withColumn(column, when(col(column).isNull(), lit(0.0)).otherwise(col(column)))\n\n\nif 'STANDARD_CHARGE_PERCENTAGE' in df.columns and 'MAXIMUM_CHARGE' in df.columns:\n    df = df.withColumn(\n        'STANDARD_CHARGE_DOLLAR',\n        when(\n            (col('STANDARD_CHARGE_DOLLAR') == 0) &\n            (col('STANDARD_CHARGE_PERCENTAGE') > 0) &\n            (col('MAXIMUM_CHARGE') > 0),\n            col('STANDARD_CHARGE_PERCENTAGE') * col('MAXIMUM_CHARGE') * 0.01\n        ).otherwise(col('STANDARD_CHARGE_DOLLAR'))\n    )\n\n\ncolumn_defs = []\nfor col_name in columns_mapping.values():\n    if col_name in numeric_columns:\n        column_defs.append(f'\"{col_name}\" FLOAT')\n    else:\n        column_defs.append(f'\"{col_name}\" STRING')\n\ncreate_stmt = \"\"\"CREATE OR REPLACE TABLE \"HEALTH_NAV\".\"CORE\".\"CAROMONT_PART2\" (\\n\"\"\" + \",\\n\".join(column_defs) + \"\\n)\"\n\nsession.sql(create_stmt).collect()\n\n\ndf.write.save_as_table(\n    '\"HEALTH_NAV\".\"CORE\".\"CAROMONT_PART2\"',\n    mode='overwrite'\n)\n\nprint(\"Data successfully written to HEALTH_NAV.CORE.CAROMONT_PART2\")\nprint(f\"Final columns: {df.columns}\")\n",
   "execution_count": null
  },
  {
   "cell_type": "code",
   "id": "f3f33f0e-1806-454f-bc32-2842c4a3cb84",
   "metadata": {
    "language": "python",
    "name": "cell37"
   },
   "outputs": [],
   "source": "df.limit(5).show()",
   "execution_count": null
  },
  {
   "cell_type": "code",
   "id": "c5dc5aba-2f47-42ce-a787-4826da015270",
   "metadata": {
    "language": "python",
    "name": "cell38"
   },
   "outputs": [],
   "source": "",
   "execution_count": null
  }
 ]
}