{
 "cells": [
  {
   "cell_type": "code",
   "execution_count": null,
   "id": "c9c189d8-31b5-43d5-a0d4-6075bd8f444a",
   "metadata": {},
   "outputs": [],
   "source": [
    "!pip uninstall numpy\n",
    "import json"
   ]
  },
  {
   "cell_type": "code",
   "execution_count": null,
   "id": "cd94dc54-bc18-495f-b167-f717b6bac508",
   "metadata": {},
   "outputs": [
    {
     "ename": "NameError",
     "evalue": "name 'pd' is not defined",
     "output_type": "error",
     "traceback": [
      "\u001b[1;31m---------------------------------------------------------------------------\u001b[0m",
      "\u001b[1;31mNameError\u001b[0m                                 Traceback (most recent call last)",
      "Cell \u001b[1;32mIn[2], line 53\u001b[0m\n\u001b[0;32m     50\u001b[0m             rows\u001b[38;5;241m.\u001b[39mappend(row)\n\u001b[0;32m     52\u001b[0m \u001b[38;5;66;03m# Convert to DataFrame\u001b[39;00m\n\u001b[1;32m---> 53\u001b[0m df \u001b[38;5;241m=\u001b[39m \u001b[43mpd\u001b[49m\u001b[38;5;241m.\u001b[39mDataFrame(rows)\n\u001b[0;32m     55\u001b[0m \u001b[38;5;66;03m# Write to Excel\u001b[39;00m\n\u001b[0;32m     56\u001b[0m df\u001b[38;5;241m.\u001b[39mto_csv(\u001b[38;5;124m'\u001b[39m\u001b[38;5;124mstandard_charges_siena.csv\u001b[39m\u001b[38;5;124m'\u001b[39m, index\u001b[38;5;241m=\u001b[39m\u001b[38;5;28;01mFalse\u001b[39;00m)\n",
      "\u001b[1;31mNameError\u001b[0m: name 'pd' is not defined"
     ]
    }
   ],
   "source": [
    "with open('standardcharges.json', 'r') as file:\n",
    "    data = json.load(file)\n",
    "\n",
    "# Flatten the JSON structure\n",
    "rows = []\n",
    "for charge in data['standard_charge_information']:\n",
    "    description = charge.get('description', 'N/A') \n",
    "    code_info = charge.get('code_information', [{}])[0] \n",
    "    code = code_info.get('code', 'N/A')  \n",
    "    code_type = code_info.get('type', 'N/A') \n",
    "    \n",
    "    for std_charge in charge.get('standard_charges', []):  \n",
    "        minimum = std_charge.get('minimum', 'N/A')  \n",
    "        maximum = std_charge.get('maximum', 'N/A') \n",
    "        setting = std_charge.get('setting', 'N/A')  \n",
    "        \n",
    "        for payer in std_charge.get('payers_information', []):  \n",
    "            payer_name = payer.get('payer_name', 'N/A')  \n",
    "            plan_name = payer.get('plan_name', 'N/A')  \n",
    "            methodology = payer.get('methodology', 'N/A')  \n",
    "            \n",
    "            # Handling both pricing methodologies\n",
    "            if 'standard_charge_dollar' in payer:\n",
    "                charge_dollar = payer.get('standard_charge_dollar', 'N/A')\n",
    "                charge_percentage = 'N/A'\n",
    "                estimated_amount = 'N/A'\n",
    "            elif 'standard_charge_percentage' in payer:\n",
    "                charge_dollar = 'N/A'\n",
    "                charge_percentage = payer.get('standard_charge_percentage', 'N/A')\n",
    "                estimated_amount = payer.get('estimated_amount', 'N/A')\n",
    "            else:\n",
    "                charge_dollar = 'N/A'\n",
    "                charge_percentage = 'N/A'\n",
    "                estimated_amount = 'N/A'\n",
    "            \n",
    "            row = {\n",
    "                'Description': description,\n",
    "                'Code': code,\n",
    "                'Code_Type': code_type,\n",
    "                'Minimum_Charge': minimum,\n",
    "                'Maximum_Charge': maximum,\n",
    "                'Setting': setting,\n",
    "                'Payer_Name': payer_name,\n",
    "                'Plan_Name': plan_name,\n",
    "                'Standard_Charge_Dollar': charge_dollar,\n",
    "                'Standard_Charge_Percentage': charge_percentage,\n",
    "                'Estimated_Amount': estimated_amount,\n",
    "                'Methodology': methodology\n",
    "            }\n",
    "            rows.append(row)\n",
    "\n",
    "\n",
    "df = pd.DataFrame(rows)\n",
    "\n",
    "\n",
    "df.to_csv('standard_charges.csv', index=False)\n",
    "\n",
    "print(\"Data has been written to standard_charges.csv\")"
   ]
  },
  {
   "cell_type": "code",
   "execution_count": null,
   "id": "047f7560-db74-4fd1-9407-5894350c9361",
   "metadata": {},
   "outputs": [],
   "source": []
  },
  {
   "cell_type": "code",
   "execution_count": 1,
   "id": "a56ab6e5-6af4-4810-8a87-e19f4f554216",
   "metadata": {},
   "outputs": [
    {
     "name": "stdout",
     "output_type": "stream",
     "text": [
      "Data has been written to standard_charges_ucmc.csv\n"
     ]
    }
   ],
   "source": [
    "import json\n",
    "import pandas as pd\n",
    "\n",
    "# Load the JSON file\n",
    "with open('363488183_the-university-of-chicago-medical-center_standardcharges.json', 'r') as file:\n",
    "    data = json.load(file)\n",
    "\n",
    "# Flatten the JSON structure\n",
    "rows = []\n",
    "for charge in data.get('standard_charge_information', []):\n",
    "    description = charge.get('description', 'N/A')\n",
    "    \n",
    "    for code_info in charge.get('code_information', []):\n",
    "        code = code_info.get('code', 'N/A')\n",
    "        code_type = code_info.get('type', 'N/A')\n",
    "        \n",
    "        for std_charge in charge.get('standard_charges', []):\n",
    "            gross_charge = std_charge.get('gross_charge', 'N/A')\n",
    "            discounted_cash = std_charge.get('discounted_cash', 'N/A')\n",
    "            setting = std_charge.get('setting', 'N/A')\n",
    "            billing_class = std_charge.get('billing_class', 'N/A')\n",
    "            modifiers = std_charge.get('modifiers', 'N/A')\n",
    "            notes = std_charge.get('additional_generic_notes', 'N/A')\n",
    "\n",
    "            row = {\n",
    "                'Description': description,\n",
    "                'Code': code,\n",
    "                'Code_Type': code_type,\n",
    "                'Gross_Charge': gross_charge,\n",
    "                'Discounted_Cash': discounted_cash,\n",
    "                'Setting': setting,\n",
    "                'Billing_Class': billing_class,\n",
    "                'Modifiers': modifiers,\n",
    "                'Additional_Notes': notes\n",
    "            }\n",
    "            rows.append(row)\n",
    "\n",
    "# Convert to DataFrame\n",
    "df = pd.DataFrame(rows)\n",
    "\n",
    "# Write to CSV\n",
    "df.to_csv('standard_charges_ucmc.csv', index=False)\n",
    "\n",
    "print(\"Data has been written to standard_charges_ucmc.csv\")\n"
   ]
  },
  {
   "cell_type": "code",
   "execution_count": null,
   "id": "6bd32672-c960-4ecd-9b9e-c88201e0528d",
   "metadata": {},
   "outputs": [],
   "source": []
  }
 ],
 "metadata": {
  "kernelspec": {
   "display_name": "Python 3 (ipykernel)",
   "language": "python",
   "name": "python3"
  },
  "language_info": {
   "codemirror_mode": {
    "name": "ipython",
    "version": 3
   },
   "file_extension": ".py",
   "mimetype": "text/x-python",
   "name": "python",
   "nbconvert_exporter": "python",
   "pygments_lexer": "ipython3",
   "version": "3.12.4"
  }
 },
 "nbformat": 4,
 "nbformat_minor": 5
}
